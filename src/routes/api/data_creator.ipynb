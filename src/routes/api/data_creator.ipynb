{
 "cells": [
  {
   "cell_type": "code",
   "execution_count": 1,
   "id": "61ec7d8e",
   "metadata": {},
   "outputs": [],
   "source": [
    "import random, json\n",
    "data = {}\n",
    "for region in ['northeast', 'northwest', 'southeast', 'southwest', 'north_plains', 'south_plains', 'midwest']:\n",
    "  data[region] = {}\n",
    "  for season in ['annual', 'spring', 'summer', 'fall', 'winter']:\n",
    "    data[region][season] = {}\n",
    "    for product, models in [\n",
    "      ['loca',['ens',\"ACCESS1-0\",\"ACCESS1-3\",\"bcc-csm1-1\",\"bcc-csm1-1-m\",\"CanESM2\",\"CCSM4\",\"CESM1-BGC\",\"CESM1-CAM5\",\"CMCC-CM\",\"CMCC-CMS\",\"CNRM-CM5\",\"CSIRO-Mk3-6-0\",\"EC EARTH\",\"FGOALS-g2\",\"GFDL-CM3\",\"GFDL-ESM2G\",\"GFDL-ESM2M\",\"GISS-E2-H-p1\",\"GISS-E2-R-p1\",\"HadGEM2-AO\",\"HadGEM2-CC\",\"HadGEM2-ES\",\"inmcm4\",\"IPSL-CM5A-LR\",\"IPSL-CM5A-MR\",\"MIROC5\",\"MIROC-ESM-CHEM\",\"MIROC-ESM\",\"MPI-ESM-LR\",\"MPI-ESM-MR\",\"MRI-CGCM3\",\"NorESM1-M\"]],\n",
    "      ['star',['ens', 'Fake Model 1', 'Fake Model 2', 'Fake Model 3']]\n",
    "    ]:\n",
    "      data[region][season][product] = {}\n",
    "      for model in models:\n",
    "        data[region][season][product][model] = {}\n",
    "        for row in ['mean_temp','daily_temp_runs', 'max_ann_max_prcp', 'prcptot']:\n",
    "          data[region][season][product][model][row] = {}\n",
    "          for col in ['gcm', 'historical_bia', 'spat_disc']:\n",
    "            data[region][season][product][model][row][col] = random.randint(0,10000) / 1000\n",
    "with open('/media/ben/External/repos/regional-model-strength/src/routes/api/data.js', 'w') as f:\n",
    "  json.dump(data, f)"
   ]
  }
 ],
 "metadata": {
  "kernelspec": {
   "display_name": "jupyter",
   "language": "python",
   "name": "python3"
  },
  "language_info": {
   "codemirror_mode": {
    "name": "ipython",
    "version": 3
   },
   "file_extension": ".py",
   "mimetype": "text/x-python",
   "name": "python",
   "nbconvert_exporter": "python",
   "pygments_lexer": "ipython3",
   "version": "3.13.3"
  }
 },
 "nbformat": 4,
 "nbformat_minor": 5
}
